{
 "cells": [
  {
   "cell_type": "markdown",
   "metadata": {},
   "source": [
    "<img src=\"./ConsignaGeneral.PNG\" align=\"center\" width=\"70%\" />\n",
    "<img src=\"./Consigna.PNG\" align=\"center\" width=\"70%\" />"
   ]
  },
  {
   "cell_type": "markdown",
   "metadata": {},
   "source": [
    "<b> A) Topología de realimentación:</b> \n",
    "\n",
    "Muestreo Corriente, Inyecto Corriente: Corriente-Corriente.\n",
    "\n",
    "<b> B)Indicar si la realimentación es positiva o negativa:</b> \n",
    "\n",
    "<img src=\"./b.PNG\" align=\"center\" width=\"70%\" />"
   ]
  },
  {
   "cell_type": "markdown",
   "metadata": {},
   "source": [
    "El punto de muestreo se encuentra <b>EN FASE</b> con la fuente. Siendo una inyección de corriente, resulta en realimentación <b>NEGATIVA ✓ </b>\n",
    "    "
   ]
  },
  {
   "cell_type": "markdown",
   "metadata": {},
   "source": [
    "<b>c) Identificar la malla de realimentación y expresión de b. Indicar unidades.</b>\n",
    "\n",
    "Desde el punto de vista del muestreo, dado que estoy muestreando corriente, necesito R2. De otra manera, no sería posible muestrear R2.\n",
    "Desde el punto de viste de la inyección de corriente, necesito R3 para conectar ambas partes.\n",
    "\n",
    "Obtengo así β:\n",
    "\n",
    "<img src=\"./c.PNG\" align=\"center\" width=\"20%\" />\n",
    "\n"
   ]
  },
  {
   "cell_type": "markdown",
   "metadata": {},
   "source": [
    "$$\n",
    "β = \\frac{If}{Io} = \\frac{R2}{R2+R3} = [ ] Adimensional  ✓\n",
    "\\\\\n",
    "$$"
   ]
  },
  {
   "cell_type": "markdown",
   "metadata": {},
   "source": [
    "<b>d) Conformar el circuito cargado con los efectos de la red de realimentación e indicar la\n",
    "ganancia particular</b>\n",
    "\n",
    "Para obtener este equivalente podemos considerar que tanto en la salida como en la entrada vamos a cargar al misma cantidad de resistencias, coincidentes con β.\n",
    "\n",
    "Tambien puede entenderse como que el punto de muestreo, (Emisor de T2), se \"abre\". A la vez que podemos entender que el punto de inyección, se pone \"a masa\". Obtenemos entonces:\n",
    "\n",
    "\n",
    "<img src=\"./Ficticio.PNG\" align=\"center\" width=\"70%\" />\n"
   ]
  },
  {
   "cell_type": "markdown",
   "metadata": {},
   "source": [
    "<b>e) Hallar la expresión de la ganancia particular indicando unidades.</b>\n",
    "\n",
    "Obtengo ganancia particular:\n",
    "\n",
    "\n",
    "$$\n",
    "Ais = \\frac{Io}{Is} = \\frac{Vo}{Rd}\\frac{Rs}{Vs} = Avs\\frac{Rs}{Rd} = [ ] Adimensional  ✓\n",
    "\\\\\n",
    "$$\n",
    "\n"
   ]
  },
  {
   "cell_type": "markdown",
   "metadata": {},
   "source": []
  },
  {
   "cell_type": "markdown",
   "metadata": {},
   "source": [
    "$$\n",
    "Avs = \\frac{Vi}{Vs}\\frac{V1}{Vi}\\frac{Vo}{V1} \n",
    "\\\\\n",
    "$$"
   ]
  },
  {
   "cell_type": "markdown",
   "metadata": {},
   "source": [
    "$$\n",
    "\\frac{Vi}{Vs} = \\frac{hieT1 // (R3+R2)}{Rs + hieT1 // (R3+R2)}\n",
    "\\\\\n",
    "$$\n"
   ]
  },
  {
   "cell_type": "markdown",
   "metadata": {},
   "source": [
    "$$\n",
    "\\frac{V1}{Vi}\\ = -gmT1*Rd1\n",
    "\\\n",
    "$$\n",
    "\n",
    "$$\n",
    "Rd1 = R1 // RiT2\n",
    "$$\n",
    "\n",
    "$$\n",
    "RiT2 = hieT2 + hfeT2 (R3//R2)\n",
    "$$\n",
    "\n",
    "$$\n",
    "\\frac{Vi}{Vs} = -gmT1 (R1 // hieT2 + hfeT2 (R3//R2))\n",
    "\\\\\n",
    "$$"
   ]
  },
  {
   "cell_type": "markdown",
   "metadata": {},
   "source": [
    "$$\n",
    "\\frac{Vo}{V1} = \\frac{-gmT2 Rd}{ gmT2 (R3//R2) + 1}\n",
    "\\\\\n",
    "$$"
   ]
  },
  {
   "cell_type": "markdown",
   "metadata": {},
   "source": [
    "$$\n",
    "e) Ais = \\frac{Io}{Is} = Avs\\frac{Rs}{Rd} = (\\frac{gmT2 Rs}{ gmT2 (R3//R2) + 1})(\\frac{hieT1 // (R3+R2)}{Rs + hieT1 // (R3+R2)})( gmT1 (R1 // hieT2 + hfeT2 (R3//R2)) )\n",
    "\\\\\n",
    "$$"
   ]
  },
  {
   "cell_type": "markdown",
   "metadata": {},
   "source": [
    "<b>\n",
    "f) Obtener D. Deterninar la ganancia particular realimentada.</b>\n",
    "\n",
    "$$\n",
    "D = 1 + Ais * β\n",
    "$$\n",
    "\n",
    "$$\n",
    "Aisf = \\frac{Ais}{D}\n",
    "$$"
   ]
  },
  {
   "cell_type": "markdown",
   "metadata": {},
   "source": [
    "<b>g) Indicar expresiones de R de entrada y R de salida para el circuito modelo y para el circuito\n",
    "realimentado.</b>\n",
    "\n",
    "$$\n",
    "Ri =(R2 + R3) // RiT1\n",
    "$$\n",
    "\n",
    "$$\n",
    "RiT1 = hieT1\n",
    "$$\n",
    "\n",
    "$$\n",
    "Ri = (R2 + R3) // hieT1\n",
    "$$"
   ]
  },
  {
   "cell_type": "markdown",
   "metadata": {},
   "source": [
    "$$\n",
    "Ris = Ri // Rs\n",
    "$$\n",
    "\n",
    "$$\n",
    "Risf = \\frac{Ris}{D}\n",
    "$$\n",
    "\n"
   ]
  },
  {
   "cell_type": "markdown",
   "metadata": {},
   "source": [
    "$$\n",
    "Ro = RoT2 =  ro2(1+ \\frac{hfeT2(R3//R2)}{(R3//R2)+hieT2+(R1//RoT1)})\n",
    "$$\n",
    "\n",
    "$$\n",
    "Ros = Ro//Rd\n",
    "$$\n",
    "\n",
    "$$\n",
    "Rosf = Ros * D\n",
    "$$"
   ]
  },
  {
   "cell_type": "markdown",
   "metadata": {},
   "source": [
    "<b> h) Si se realizaron transformaciones del generador de excitación obtener la R de entrada del\n",
    "circuito real.</b>\n",
    "\n",
    "\n",
    "$$\n",
    "Ri (real) = \\frac{Riaf}{D} = \\frac{((R2 + R3) // hieT1)}{D}\n",
    "$$"
   ]
  },
  {
   "cell_type": "markdown",
   "metadata": {},
   "source": [
    "<b> i) Obtener Avsf </b>\n",
    "$$\n",
    "Avsf = \\frac{Vo}{Vs} = \\frac{Io Rd}{Is Rs} = Ais * \\frac{Rd}{Rs}\n",
    "$$\n",
    "\n",
    "\n",
    "Este Ais corresponde a la ganancia de corriente del circuito ficticio."
   ]
  },
  {
   "cell_type": "markdown",
   "metadata": {},
   "source": []
  }
 ],
 "metadata": {
  "kernelspec": {
   "display_name": "Python 3",
   "language": "python",
   "name": "python3"
  },
  "language_info": {
   "codemirror_mode": {
    "name": "ipython",
    "version": 3
   },
   "file_extension": ".py",
   "mimetype": "text/x-python",
   "name": "python",
   "nbconvert_exporter": "python",
   "pygments_lexer": "ipython3",
   "version": "3.7.6"
  }
 },
 "nbformat": 4,
 "nbformat_minor": 4
}
